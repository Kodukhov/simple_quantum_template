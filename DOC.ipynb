{
 "cells": [
  {
   "cell_type": "markdown",
   "metadata": {},
   "source": [
    "# Шаблон для запуска квантовых алгоритмов на IBM\n",
    "\n",
    "Алгоритм должен быть на разложен на комбинацию CNOT и однокубитных гейтов. <br>\n",
    "На IBM компьютере возможна реализация следующих гейтов:\n",
    "\n",
    "$\n",
    "X = \\begin{pmatrix} 0 & 1 \\\\ 1 & 0 \\end{pmatrix}, \n",
    "Y = \\begin{pmatrix} 0 & -i \\\\ i & 0\\end{pmatrix},\n",
    "Z = \\begin{pmatrix} 1 & 0 \\\\ 0 & -1 \\end{pmatrix},\n",
    "H = \\frac{1}{\\sqrt{2}} \\begin{pmatrix} 1 & 1 \\\\ 1 & -1 \\end{pmatrix},\n",
    "S = \\begin{pmatrix} 1 & 0 \\\\ 0 & i \\end{pmatrix},\n",
    "S^{\\dagger} = \\begin{pmatrix} 1 & 0 \\\\ 0 & -i \\end{pmatrix},\n",
    "T = \\begin{pmatrix} 1 & 0 \\\\ 0 & \\frac{1 + i}{\\sqrt{2}} \\end{pmatrix}, \\\\\n",
    "$\n",
    "$\n",
    "T^{\\dagger} = \\begin{pmatrix} 1 & 0 \\\\ 0 & \\frac{1 - i}{\\sqrt{2}} \\end{pmatrix}, \n",
    "U_1(\\lambda) = \\begin{pmatrix} 1 & 0 \\\\ 0 & e^{i \\lambda} \\end{pmatrix},\n",
    "U_2(\\varphi, \\lambda) = \\frac{1}{\\sqrt{2}} \\begin{pmatrix} 1 & -e^{i \\lambda} \\\\\n",
    "e^{i \\varphi} & e^{i(\\lambda + \\varphi)} \\end{pmatrix},\n",
    "U_3(\\theta, \\varphi, \\lambda) = \\begin{pmatrix} \\cos(\\frac{\\theta}{2}) & -e^{i \\lambda} \\sin(\\frac{\\theta}{2}) \\\\\n",
    "e^{i \\varphi} \\sin(\\frac{\\theta}{2}) & e^{i (\\lambda + \\varphi)} \\cos(\\frac{\\theta}{2})) \\end{pmatrix}\n",
    "$\n",
    "\n",
    "Например, следующий код применит преобразование Адамара к нулевому кубиту, $U_3(1, 2, 0.5)$ к первому\n",
    "и $S^{\\dagger}$ ко второму: <br>\n",
    "\n",
    "```python\n",
    "circuit.h(quantum_register[0])\n",
    "circuit.u3(1, 2, 0.5, quantum_register[1])\n",
    "circuit.sdg(quantum_register[2])\n",
    "```\n",
    "CNOT реализовывается следующим способом:\n",
    "```python\n",
    "circuit.cx(quantum_register[0], quantum_register[1])\n",
    "```\n",
    "\n",
    "Где нулевой кубит является контролируещим, а первый &mdash; контролируемым\n",
    "( $|0>_1 |0>_0 \\rightarrow |0>_1 |0>_0, |1>_1 |1>_0 \\rightarrow |0>_1 |1>_0 $ ) \n"
   ]
  },
  {
   "cell_type": "markdown",
   "metadata": {},
   "source": [
    "## Установка\n",
    "\n",
    "Используйте pip(установлен по умолчанию в третьем питоне). <br>\n",
    "```pip install -r requirements.txt```"
   ]
  },
  {
   "cell_type": "markdown",
   "metadata": {},
   "source": [
    "## Запуск\n",
    "\n",
    "Основной код находится в ```main.py```. Поэтому запускается так: <br>\n",
    "```python main.py``` <br> <br>\n",
    "Для получения информации о дополнительных возможностях используйте: <br>\n",
    "```python main.py --help``` <br> <br>\n",
    "Например, следующая команда проведет 100 экспериментов на локальном симуляторе.<br> \n",
    "```python main.py -b qasm_simulator -s 100``` <br>"
   ]
  },
  {
   "cell_type": "markdown",
   "metadata": {},
   "source": [
    "## Получение доступа к IBM квантовым компьютерам\n",
    "\n",
    "Необходимо зарегистироваться на https://quantumexperience.ng.bluemix.net/qx. Далее, перейти ```My Account->Advanced```\n",
    "и скопировать APItoken. Затем, переименовать(скопировать и переименовать) файл ```Qconfig.py.example``` в ```Qconfig.py```\n",
    "и вставить свой APItoken туда(например, ```APItoken = '123'```). <br>\n",
    "После этого должны появится новые компьютеры, которые можно будет увидеть, выполнив следующее <br>\n",
    "```python main.py --show-backends```"
   ]
  }
 ],
 "metadata": {
  "kernelspec": {
   "display_name": "Python 3",
   "language": "python",
   "name": "python3"
  },
  "language_info": {
   "codemirror_mode": {
    "name": "ipython",
    "version": 3.0
   },
   "file_extension": ".py",
   "mimetype": "text/x-python",
   "name": "python",
   "nbconvert_exporter": "python",
   "pygments_lexer": "ipython3",
   "version": "3.6.7"
  }
 },
 "nbformat": 4,
 "nbformat_minor": 0
}